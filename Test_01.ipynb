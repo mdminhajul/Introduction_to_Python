{
  "nbformat": 4,
  "nbformat_minor": 0,
  "metadata": {
    "colab": {
      "provenance": [],
      "authorship_tag": "ABX9TyO2QsPVklw1jS+jr2aQBlw5",
      "include_colab_link": true
    },
    "kernelspec": {
      "name": "python3",
      "display_name": "Python 3"
    },
    "language_info": {
      "name": "python"
    }
  },
  "cells": [
    {
      "cell_type": "markdown",
      "metadata": {
        "id": "view-in-github",
        "colab_type": "text"
      },
      "source": [
        "<a href=\"https://colab.research.google.com/github/mdminhajul/Introduction_to_Python/blob/main/Test_01.ipynb\" target=\"_parent\"><img src=\"https://colab.research.google.com/assets/colab-badge.svg\" alt=\"Open In Colab\"/></a>"
      ]
    },
    {
      "cell_type": "markdown",
      "source": [],
      "metadata": {
        "id": "aIRB8F7KlFsh"
      }
    },
    {
      "cell_type": "code",
      "source": [
        "x = int(input(\"Please enter an integer: \"))\n",
        "if x < 0:\n",
        "  x = print('Negative changed to zero')\n",
        "elif x == 0:\n",
        "  print('Zero')\n",
        "elif x == 1:\n",
        "  print('Single')\n",
        "else:\n",
        "  print('More')"
      ],
      "metadata": {
        "colab": {
          "base_uri": "https://localhost:8080/"
        },
        "id": "-9kY8e4wj-rE",
        "outputId": "57ad6359-5638-42a0-a302-79503fe2c416"
      },
      "execution_count": null,
      "outputs": [
        {
          "output_type": "stream",
          "name": "stdout",
          "text": [
            "Please enter an integer: 21\n",
            "More\n"
          ]
        }
      ]
    },
    {
      "cell_type": "code",
      "source": [
        "a = [100,200,300]\n",
        "s = \"This is my String\"\n",
        "def foo(arg):\n",
        "   print(f'arg = {arg}')\n",
        "\n",
        "class Foo:\n",
        "    pass\n",
        ""
      ],
      "metadata": {
        "id": "T0j7A42mcHBq"
      },
      "execution_count": null,
      "outputs": []
    },
    {
      "cell_type": "code",
      "source": [
        "def Fazr(sunnah, fard):\n",
        "  total_rakah = sunnah + fard\n",
        "  return total_rakah"
      ],
      "metadata": {
        "id": "ZkAeXtCHl3RC"
      },
      "execution_count": 5,
      "outputs": []
    },
    {
      "cell_type": "code",
      "source": [
        "print(\"what is the total number of Rakah of\" )\n",
        "print(\"It is: \", Fazr(2,2))"
      ],
      "metadata": {
        "colab": {
          "base_uri": "https://localhost:8080/"
        },
        "id": "hIDWmtzrmIkY",
        "outputId": "a8f31548-ac5c-4336-c954-3acbaefef2d1"
      },
      "execution_count": 6,
      "outputs": [
        {
          "output_type": "stream",
          "name": "stdout",
          "text": [
            "what is the total number of Rakah of\n",
            "It is:  4\n"
          ]
        }
      ]
    }
  ]
}